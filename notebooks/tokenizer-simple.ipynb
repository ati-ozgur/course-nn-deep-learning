{
 "cells": [
  {
   "cell_type": "code",
   "execution_count": null,
   "id": "04548891",
   "metadata": {},
   "outputs": [],
   "source": [
    "# use output cell to create a link to open this notebook in Google Colab\n",
    "from IPython.display import Markdown\n",
    "notebook_name = \"tokenizer-simple.ipynb\"\n",
    "link = f\"https://colab.research.google.com/github/ati-ozgur/course-nn-deep-learning/blob/master/notebooks/tokenizer-simple.ipynb\"\n",
    "Markdown(f'<a target=\"_blank\" href=\"{link}\">Run in Google Colab</a>')"
   ]
  },
  {
   "cell_type": "markdown",
   "id": "0d2d6a84",
   "metadata": {},
   "source": [
    "## Yazıyı sayılaştırma (Tokenizing text)"
   ]
  },
  {
   "cell_type": "markdown",
   "id": "78564214",
   "metadata": {},
   "source": [
    "Adapted from [LLM from scratch github repo ch02 notebook](https://github.com/rasbt/LLMs-from-scratch/blob/main/ch02/01_main-chapter-code/ch02.ipynb)"
   ]
  },
  {
   "cell_type": "code",
   "execution_count": null,
   "id": "faa22561",
   "metadata": {},
   "outputs": [],
   "source": [
    "from importlib.metadata import version\n",
    "\n",
    "print(\"torch version:\", version(\"torch\"))\n",
    "print(\"tiktoken version:\", version(\"tiktoken\"))"
   ]
  },
  {
   "cell_type": "code",
   "execution_count": null,
   "id": "34def6c9",
   "metadata": {},
   "outputs": [],
   "source": [
    "import os\n",
    "import urllib.request"
   ]
  },
  {
   "cell_type": "code",
   "execution_count": null,
   "id": "81f7569d",
   "metadata": {},
   "outputs": [],
   "source": [
    "if not os.path.exists(\"the-verdict.txt\"):\n",
    "    url = (\"https://raw.githubusercontent.com/ati-ozgur/\"\n",
    "           \"/course-nn-deep-learning/master/data/\"\n",
    "           \"the-verdict.txt\")\n",
    "    file_path = \"the-verdict.txt\"\n",
    "    urllib.request.urlretrieve(url, file_path)"
   ]
  },
  {
   "cell_type": "code",
   "execution_count": null,
   "id": "ed2a9eda",
   "metadata": {},
   "outputs": [],
   "source": [
    "\n",
    "with open(\"the-verdict.txt\", \"r\", encoding=\"utf-8\") as f:\n",
    "    raw_text = f.read()\n",
    "    \n",
    "print(\"Total number of character:\", len(raw_text))\n",
    "print(raw_text[:99])"
   ]
  },
  {
   "cell_type": "code",
   "execution_count": null,
   "id": "523dc085",
   "metadata": {},
   "outputs": [],
   "source": [
    "import re\n",
    "\n",
    "text = \"Hello, world. This, is a test.\"\n",
    "result = re.split(r'(\\s)', text)\n",
    "print(result)\n"
   ]
  },
  {
   "cell_type": "markdown",
   "id": "0efbf5ba",
   "metadata": {},
   "source": [
    "r'(\\s)' whitespace boşluk karakterleri ile ayrıştırma yapmamızı sağlıyor. "
   ]
  },
  {
   "cell_type": "code",
   "execution_count": null,
   "id": "5fd0e781",
   "metadata": {},
   "outputs": [],
   "source": [
    "result = re.split(r'([,.]|\\s)', text)\n",
    "print(result)"
   ]
  },
  {
   "cell_type": "markdown",
   "id": "9ddd8faa",
   "metadata": {},
   "source": [
    "r'([,.]|\\s)' \n",
    "- \\ boşluk\n",
    "- [] içinde verilenlerden biri\n",
    "- | veya anlamında\n",
    "\n",
    "Kısaca bu regex bizim noktalama işaretleri ,. ve boşluk karakterleri ile ayrıştırma yapmamızı sağlıyor.\n",
    "LLM türevleri kullanarak istediğiniz regex yazabilir veya yazılmış bir regex'in tercümesini yapabilirsiniz."
   ]
  },
  {
   "cell_type": "code",
   "execution_count": null,
   "id": "334eb5bd",
   "metadata": {},
   "outputs": [],
   "source": [
    "# boş betikleri filtrele ve kelimeleri liste içine al\n",
    "result = [item for item in result if item.strip()]\n",
    "print(result)"
   ]
  },
  {
   "cell_type": "code",
   "execution_count": null,
   "id": "aa3aef6c",
   "metadata": {},
   "outputs": [],
   "source": [
    "text = \"Hello, world. Is this-- a test?\"\n",
    "\n",
    "result = re.split(r'([,.:;?_!\"()\\']|--|\\s)', text)\n",
    "result = [item.strip() for item in result if item.strip()]\n",
    "print(result)"
   ]
  },
  {
   "cell_type": "code",
   "execution_count": null,
   "id": "a1acf97a",
   "metadata": {},
   "outputs": [],
   "source": [
    "preprocessed = re.split(r'([,.:;?_!\"()\\']|--|\\s)', raw_text)\n",
    "preprocessed = [item.strip() for item in preprocessed if item.strip()]\n",
    "print(preprocessed[:30])"
   ]
  },
  {
   "cell_type": "markdown",
   "id": "85841ee1",
   "metadata": {},
   "source": [
    "Toplam kaç simge (token) olduğunu görelim."
   ]
  },
  {
   "cell_type": "code",
   "execution_count": null,
   "id": "a8c97325",
   "metadata": {},
   "outputs": [],
   "source": [
    "print(len(preprocessed))"
   ]
  },
  {
   "cell_type": "code",
   "execution_count": null,
   "id": "13dd83e5",
   "metadata": {},
   "outputs": [],
   "source": [
    "# Kaç tane biricik simge\n",
    "print(len(set(preprocessed)))"
   ]
  },
  {
   "cell_type": "markdown",
   "id": "7bce9fa4",
   "metadata": {},
   "source": [
    "![](../images/tokenization-word-example.png)"
   ]
  },
  {
   "cell_type": "code",
   "execution_count": null,
   "id": "2283990b",
   "metadata": {},
   "outputs": [],
   "source": [
    "# sorted ile sıralama yapıyoruz\n",
    "all_words = sorted(set(preprocessed))\n",
    "vocab_size = len(all_words)\n",
    "\n",
    "print(vocab_size)\n"
   ]
  },
  {
   "cell_type": "code",
   "execution_count": null,
   "id": "b5f2c8a5",
   "metadata": {},
   "outputs": [],
   "source": [
    "# dictionary comprehension ile kelime -> indeks eşlemesi\n",
    "vocab = {token:integer for integer,token in enumerate(all_words)}"
   ]
  },
  {
   "cell_type": "code",
   "execution_count": null,
   "id": "3a97e990",
   "metadata": {},
   "outputs": [],
   "source": [
    "# ilk 20 simge ve indeksleri\n",
    "for i, item in enumerate(vocab.items()):\n",
    "    print(item)\n",
    "    if i >= 20:\n",
    "        break"
   ]
  },
  {
   "cell_type": "code",
   "execution_count": null,
   "id": "c09cacd6",
   "metadata": {},
   "outputs": [],
   "source": [
    "class SimpleTokenizerV1:\n",
    "    def __init__(self, vocab):\n",
    "        self.str_to_int = vocab\n",
    "        self.int_to_str = {i:s for s,i in vocab.items()}\n",
    "    \n",
    "    def encode(self, text):\n",
    "        preprocessed = re.split(r'([,.:;?_!\"()\\']|--|\\s)', text)\n",
    "                                \n",
    "        preprocessed = [\n",
    "            item.strip() for item in preprocessed if item.strip()\n",
    "        ]\n",
    "        ids = [self.str_to_int[s] for s in preprocessed]\n",
    "        return ids\n",
    "        \n",
    "    def decode(self, ids):\n",
    "        text = \" \".join([self.int_to_str[i] for i in ids])\n",
    "        # Replace spaces before the specified punctuations\n",
    "        text = re.sub(r'\\s+([,.?!\"()\\'])', r'\\1', text)\n",
    "        return text\n"
   ]
  },
  {
   "cell_type": "markdown",
   "id": "f4e0f1ef",
   "metadata": {},
   "source": [
    "- **encode** function yazıyı sayıya çeviriyor\n",
    "- **decode** function sayıları geri yazıya çeviriyor"
   ]
  },
  {
   "cell_type": "code",
   "execution_count": null,
   "id": "d4f889ff",
   "metadata": {},
   "outputs": [],
   "source": [
    "tokenizer = SimpleTokenizerV1(vocab)\n",
    "\n",
    "text = \"\"\"\"It's the last he painted, you know,\" \n",
    "           Mrs. Gisburn said with pardonable pride.\"\"\"\n",
    "ids = tokenizer.encode(text)\n",
    "print(ids)\n",
    "\n"
   ]
  },
  {
   "cell_type": "code",
   "execution_count": null,
   "id": "efdae0cd",
   "metadata": {},
   "outputs": [],
   "source": [
    "tokenizer.decode(ids)"
   ]
  },
  {
   "cell_type": "markdown",
   "id": "4bed05cf",
   "metadata": {},
   "source": [
    "##  Special context tokens"
   ]
  },
  {
   "cell_type": "markdown",
   "id": "1b872dad",
   "metadata": {},
   "source": []
  }
 ],
 "metadata": {
  "kernelspec": {
   "display_name": "llms-from-scratch (3.13.7)",
   "language": "python",
   "name": "python3"
  },
  "language_info": {
   "codemirror_mode": {
    "name": "ipython",
    "version": 3
   },
   "file_extension": ".py",
   "mimetype": "text/x-python",
   "name": "python",
   "nbconvert_exporter": "python",
   "pygments_lexer": "ipython3",
   "version": "3.13.7"
  }
 },
 "nbformat": 4,
 "nbformat_minor": 5
}
