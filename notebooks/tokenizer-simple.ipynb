{
 "cells": [
  {
   "cell_type": "code",
   "execution_count": null,
   "id": "faa22561",
   "metadata": {},
   "outputs": [],
   "source": [
    "from importlib.metadata import version\n",
    "\n",
    "print(\"torch version:\", version(\"torch\"))\n",
    "print(\"tiktoken version:\", version(\"tiktoken\"))"
   ]
  },
  {
   "cell_type": "code",
   "execution_count": null,
   "id": "34def6c9",
   "metadata": {},
   "outputs": [],
   "source": [
    "import os\n",
    "import urllib.request"
   ]
  },
  {
   "cell_type": "code",
   "execution_count": null,
   "id": "81f7569d",
   "metadata": {},
   "outputs": [],
   "source": [
    "if not os.path.exists(\"the-verdict.txt\"):\n",
    "    url = (\"https://raw.githubusercontent.com/ati-ozgur/\"\n",
    "           \"/course-nn-deep-learning/master/data/\"\n",
    "           \"the-verdict.txt\")\n",
    "    file_path = \"the-verdict.txt\"\n",
    "    urllib.request.urlretrieve(url, file_path)"
   ]
  },
  {
   "cell_type": "code",
   "execution_count": null,
   "id": "ed2a9eda",
   "metadata": {},
   "outputs": [],
   "source": [
    "\n",
    "with open(\"the-verdict.txt\", \"r\", encoding=\"utf-8\") as f:\n",
    "    raw_text = f.read()\n",
    "    \n",
    "print(\"Total number of character:\", len(raw_text))\n",
    "print(raw_text[:99])"
   ]
  },
  {
   "cell_type": "code",
   "execution_count": null,
   "id": "523dc085",
   "metadata": {},
   "outputs": [],
   "source": [
    "import re\n",
    "\n",
    "text = \"Hello, world. This, is a test.\"\n",
    "result = re.split(r'(\\s)', text)\n",
    "print(result)\n"
   ]
  },
  {
   "cell_type": "markdown",
   "id": "0efbf5ba",
   "metadata": {},
   "source": [
    "r'(\\s)' whitespace boşluk karakterleri ile ayrıştırma yapmamızı sağlıyor. "
   ]
  },
  {
   "cell_type": "code",
   "execution_count": null,
   "id": "5fd0e781",
   "metadata": {},
   "outputs": [],
   "source": [
    "result = re.split(r'([,.]|\\s)', text)\n",
    "print(result)"
   ]
  },
  {
   "cell_type": "markdown",
   "id": "9ddd8faa",
   "metadata": {},
   "source": [
    "r'([,.]|\\s)' \n",
    "- \\ boşluk\n",
    "- [] içinde verilenlerden biri\n",
    "- | veya anlamında\n",
    "\n",
    "Kısaca bu regex bizim noktalama işaretleri ,. ve boşluk karakterleri ile ayrıştırma yapmamızı sağlıyor.\n",
    "LLM türevleri kullanarak istediğiniz regex yazabilir veya yazılmış bir regex'in tercümesini yapabilirsiniz."
   ]
  },
  {
   "cell_type": "code",
   "execution_count": null,
   "id": "334eb5bd",
   "metadata": {},
   "outputs": [],
   "source": [
    "# boş betikleri filtrele ve kelimeleri liste içine al\n",
    "result = [item for item in result if item.strip()]\n",
    "print(result)"
   ]
  },
  {
   "cell_type": "code",
   "execution_count": null,
   "id": "aa3aef6c",
   "metadata": {},
   "outputs": [],
   "source": [
    "text = \"Hello, world. Is this-- a test?\"\n",
    "\n",
    "result = re.split(r'([,.:;?_!\"()\\']|--|\\s)', text)\n",
    "result = [item.strip() for item in result if item.strip()]\n",
    "print(result)"
   ]
  },
  {
   "cell_type": "code",
   "execution_count": null,
   "id": "a1acf97a",
   "metadata": {},
   "outputs": [],
   "source": [
    "preprocessed = re.split(r'([,.:;?_!\"()\\']|--|\\s)', raw_text)\n",
    "preprocessed = [item.strip() for item in preprocessed if item.strip()]\n",
    "print(preprocessed[:30])"
   ]
  },
  {
   "cell_type": "markdown",
   "id": "85841ee1",
   "metadata": {},
   "source": [
    "Toplam kaç simge (token) olduğunu görelim."
   ]
  },
  {
   "cell_type": "code",
   "execution_count": null,
   "id": "a8c97325",
   "metadata": {},
   "outputs": [],
   "source": [
    "print(len(preprocessed))"
   ]
  },
  {
   "cell_type": "code",
   "execution_count": null,
   "id": "0bc5de08",
   "metadata": {},
   "outputs": [],
   "source": [
    "# Kaç tane biricik simge"
   ]
  },
  {
   "cell_type": "code",
   "execution_count": null,
   "id": "13dd83e5",
   "metadata": {},
   "outputs": [],
   "source": [
    "print(len(set(preprocessed)))"
   ]
  }
 ],
 "metadata": {
  "kernelspec": {
   "display_name": "llms-from-scratch (3.13.7)",
   "language": "python",
   "name": "python3"
  },
  "language_info": {
   "codemirror_mode": {
    "name": "ipython",
    "version": 3
   },
   "file_extension": ".py",
   "mimetype": "text/x-python",
   "name": "python",
   "nbconvert_exporter": "python",
   "pygments_lexer": "ipython3",
   "version": "3.13.7"
  }
 },
 "nbformat": 4,
 "nbformat_minor": 5
}
