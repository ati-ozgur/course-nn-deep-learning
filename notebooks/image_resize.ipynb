{
 "cells": [
  {
   "cell_type": "code",
   "execution_count": null,
   "metadata": {},
   "outputs": [],
   "source": [
    "# if it is not installed, please install pillow\n",
    "#!pip install Pillow"
   ]
  },
  {
   "cell_type": "code",
   "execution_count": null,
   "metadata": {},
   "outputs": [],
   "source": [
    "data_folder = \"data\""
   ]
  },
  {
   "cell_type": "code",
   "execution_count": null,
   "metadata": {},
   "outputs": [],
   "source": [
    "dataset_name = \"dogs-vs-cats\""
   ]
  },
  {
   "cell_type": "code",
   "execution_count": null,
   "metadata": {},
   "outputs": [],
   "source": [
    "training_path = os.path.join(data_folder, dataset_name,\"train\")\n",
    "validation_path = os.path.join(data_folder, dataset_name,\"validation\")\n",
    "test_path = os.path.join(data_folder, dataset_name,\"test1\")"
   ]
  },
  {
   "cell_type": "code",
   "execution_count": null,
   "metadata": {},
   "outputs": [],
   "source": [
    "image_width = 224\n",
    "image_height = 224\n",
    "from PIL import Image, ImageFilter\n",
    "def resize_images(directory_path):\n",
    "    files = []\n",
    "    # r=root, d=directories, f = files\n",
    "    for r, d, f in os.walk(directory_path):\n",
    "        for file in f:\n",
    "            if '.jpg' in file:\n",
    "                files.append(os.path.join(r, file))\n",
    "\n",
    "    for imagefilename in files:\n",
    "        im1 = Image.open(imagefilename)\n",
    "        im_resized = im1.resize((image_width, image_height), Image.NEAREST)\n",
    "        im_resized.save(imagefilename)\n",
    "        print(imagefilename)\n",
    "\n",
    "\n",
    "#resize_images(training_path)\n",
    "#resize_images(validation_path)\n",
    "#resize_images(test_path)"
   ]
  }
 ],
 "metadata": {
  "kernelspec": {
   "display_name": "Python 3",
   "language": "python",
   "name": "python3"
  },
  "language_info": {
   "codemirror_mode": {
    "name": "ipython",
    "version": 3
   },
   "file_extension": ".py",
   "mimetype": "text/x-python",
   "name": "python",
   "nbconvert_exporter": "python",
   "pygments_lexer": "ipython3",
   "version": "3.6.8"
  }
 },
 "nbformat": 4,
 "nbformat_minor": 2
}
