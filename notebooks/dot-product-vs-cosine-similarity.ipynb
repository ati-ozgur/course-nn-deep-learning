{
 "cells": [
  {
   "cell_type": "code",
   "execution_count": null,
   "id": "597a18e3-8e53-498d-8d4c-338e05cd26c5",
   "metadata": {},
   "outputs": [],
   "source": [
    "import torch\n",
    "import torch.nn.functional as F\n",
    "import matplotlib.pyplot as plt"
   ]
  },
  {
   "cell_type": "code",
   "execution_count": null,
   "id": "1350b87b-1aa2-495c-a72f-145591e51f45",
   "metadata": {},
   "outputs": [],
   "source": [
    "# Define two vectors\n",
    "a = torch.tensor([3.0, 4.0])   # magnitude = 5\n",
    "b = torch.tensor([4.0, 3.0])   # magnitude = 5\n"
   ]
  },
  {
   "cell_type": "code",
   "execution_count": null,
   "id": "96ee4ce8-e1ec-4c2e-80e2-d90b8b44ef9b",
   "metadata": {},
   "outputs": [],
   "source": []
  },
  {
   "cell_type": "code",
   "execution_count": null,
   "id": "4438bbd9-8c0f-4e6c-8ab1-6ac21353a66d",
   "metadata": {},
   "outputs": [],
   "source": [
    "# Plot\n",
    "s_a = str(a).replace('tensor','').replace('(','').replace(')','')\n",
    "s_b = str(b).replace('tensor','').replace('(','').replace(')','')\n",
    "\n",
    "\n",
    "plt.figure(figsize=(6, 6))\n",
    "plt.axhline(0, color='gray', linewidth=0.5)\n",
    "plt.axvline(0, color='gray', linewidth=0.5)\n",
    "\n",
    "# Draw vectors\n",
    "plt.quiver(0, 0, a[0], a[1], angles='xy', scale_units='xy', scale=1, color='blue', label=f\"a = {s_a}\")\n",
    "plt.quiver(0, 0, b[0], b[1], angles='xy', scale_units='xy', scale=1, color='green', label=f\"b = {s_b}\")\n",
    "# Formatting\n",
    "plt.xlim(-2, 5)\n",
    "plt.ylim(-2, 5)\n",
    "plt.gca().set_aspect('equal', adjustable='box')\n",
    "plt.legend()\n",
    "plt.title(\"Vector Visualization: Dot Product vs Cosine Similarity\")\n",
    "plt.show()"
   ]
  },
  {
   "cell_type": "code",
   "execution_count": null,
   "id": "990844ba-a187-4a87-af34-32b4c5434e4b",
   "metadata": {},
   "outputs": [],
   "source": [
    "# 1. Dot product\n",
    "dot_product = torch.dot(a, b)\n",
    "\n",
    "# 2. Cosine similarity (manual calculation)\n",
    "cosine_sim_manual = dot_product / (torch.norm(a) * torch.norm(b))\n",
    "\n",
    "# 3. Cosine similarity (using PyTorch built-in)\n",
    "cosine_sim_torch = F.cosine_similarity(a.unsqueeze(0), b.unsqueeze(0))\n",
    "\n",
    "print(f\"Vector a: {a}\")\n",
    "print(f\"Vector b: {b}\")\n",
    "print(f\"Dot product: {dot_product.item():.4f}\")\n",
    "print(f\"Cosine similarity (manual): {cosine_sim_manual.item():.4f}\")\n",
    "print(f\"Cosine similarity (torch):  {cosine_sim_torch.item():.4f}\")"
   ]
  },
  {
   "cell_type": "code",
   "execution_count": null,
   "id": "7134f6ae-0ee7-46e1-a2e7-27887de99dc3",
   "metadata": {},
   "outputs": [],
   "source": [
    "\n",
    "# Define two orthogonal vectors\n",
    "c = torch.tensor([4.0, 0.0])   # along x-axis\n",
    "d = torch.tensor([0.0, 3.0])   # along y-axis\n",
    "\n",
    "# 1. Dot product\n",
    "dot_product = torch.dot(c, d)\n",
    "\n",
    "# 2. Cosine similarity (manual calculation)\n",
    "cosine_sim_manual = dot_product / (torch.norm(c) * torch.norm(d))\n",
    "\n",
    "# 3. Cosine similarity (using PyTorch built-in)\n",
    "cosine_sim_torch = F.cosine_similarity(c.unsqueeze(0), d.unsqueeze(0))\n",
    "\n",
    "print(f\"Vector c: {c}\")\n",
    "print(f\"Vector d: {d}\")\n",
    "print(f\"Dot product: {dot_product.item():.4f}\")\n",
    "print(f\"Cosine similarity (manual): {cosine_sim_manual.item():.4f}\")\n",
    "print(f\"Cosine similarity (torch):  {cosine_sim_torch.item():.4f}\")\n"
   ]
  },
  {
   "cell_type": "code",
   "execution_count": null,
   "id": "392fed82-d0b5-430c-8dbc-c6ba28c22c9d",
   "metadata": {},
   "outputs": [],
   "source": [
    "\n",
    "\n",
    "plt.figure(figsize=(6, 6))\n",
    "plt.axhline(0, color='gray', linewidth=0.5)\n",
    "plt.axvline(0, color='gray', linewidth=0.5)\n",
    "\n",
    "# Draw vectors\n",
    "plt.quiver(0, 0, c[0], c[1], angles='xy', scale_units='xy', scale=1, color='red', label=f\"c = {s_c}\")\n",
    "plt.quiver(0, 0, d[0], d[1], angles='xy', scale_units='xy', scale=1, color='orange', label=f\"d = {s_d}\")\n",
    "# Formatting\n",
    "plt.xlim(-2, 5)\n",
    "plt.ylim(-2, 5)\n",
    "plt.gca().set_aspect('equal', adjustable='box')\n",
    "plt.legend()\n",
    "plt.title(\"Vector Visualization: Dot Product vs Cosine Similarity\")\n",
    "plt.show()"
   ]
  },
  {
   "cell_type": "code",
   "execution_count": null,
   "id": "62fcda73-2218-49e3-ba91-637e26b961f6",
   "metadata": {},
   "outputs": [],
   "source": [
    "# Plot\n",
    "s_c = str(c).replace('tensor','').replace('(','').replace(')','')\n",
    "s_d = str(d).replace('tensor','').replace('(','').replace(')','')\n",
    "\n",
    "\n",
    "plt.figure(figsize=(6, 6))\n",
    "plt.axhline(0, color='gray', linewidth=0.5)\n",
    "plt.axvline(0, color='gray', linewidth=0.5)\n",
    "\n",
    "# Draw vectors\n",
    "plt.quiver(0, 0, a[0], a[1], angles='xy', scale_units='xy', scale=1, color='blue', label=f\"a = {s_a}\")\n",
    "plt.quiver(0, 0, b[0], b[1], angles='xy', scale_units='xy', scale=1, color='green', label=f\"b = {s_b}\")\n",
    "\n",
    "plt.quiver(0, 0, c[0], c[1], angles='xy', scale_units='xy', scale=1, color='red', label=f\"c = {s_c}\")\n",
    "plt.quiver(0, 0, d[0], d[1], angles='xy', scale_units='xy', scale=1, color='orange', label=f\"d = {s_d}\")\n",
    "# Formatting\n",
    "plt.xlim(-2, 5)\n",
    "plt.ylim(-2, 5)\n",
    "plt.gca().set_aspect('equal', adjustable='box')\n",
    "plt.legend()\n",
    "plt.title(\"Vector Visualization: Dot Product vs Cosine Similarity\")\n",
    "plt.show()"
   ]
  },
  {
   "cell_type": "code",
   "execution_count": null,
   "id": "fa43439d-3cbc-48e3-9ce9-3add91ed2ced",
   "metadata": {},
   "outputs": [],
   "source": []
  }
 ],
 "metadata": {
  "kernelspec": {
   "display_name": "Python 3 (ipykernel)",
   "language": "python",
   "name": "python3"
  },
  "language_info": {
   "codemirror_mode": {
    "name": "ipython",
    "version": 3
   },
   "file_extension": ".py",
   "mimetype": "text/x-python",
   "name": "python",
   "nbconvert_exporter": "python",
   "pygments_lexer": "ipython3",
   "version": "3.13.7"
  }
 },
 "nbformat": 4,
 "nbformat_minor": 5
}
