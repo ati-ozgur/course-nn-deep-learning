{
 "cells": [
  {
   "cell_type": "code",
   "execution_count": null,
   "metadata": {},
   "outputs": [],
   "source": [
    "<a target=\"_blank\" href=\"https://colab.research.google.com/github/ati-ozgur/kurs-neural-networks-deep-learning/blob/master/notebooks/matplotlib-tutorial.ipynb\">Run in Google Colab\n",
    "    </a>"
   ]
  },
  {
   "cell_type": "code",
   "execution_count": null,
   "metadata": {},
   "outputs": [],
   "source": [
    "import numpy as np\n",
    "import pandas as pd\n",
    "import matplotlib.pyplot as plt\n"
   ]
  },
  {
   "cell_type": "code",
   "execution_count": null,
   "metadata": {},
   "outputs": [],
   "source": [
    "%matplotlib inline\n",
    "# we use this jupyter magic to see plots inline in our notebook."
   ]
  },
  {
   "cell_type": "markdown",
   "metadata": {},
   "source": [
    "### Basic Graph"
   ]
  },
  {
   "cell_type": "code",
   "execution_count": null,
   "metadata": {},
   "outputs": [],
   "source": [
    "x = [0,1,2,3,4]\n",
    "y = [0,2,4,6,8]\n",
    "plt.plot(x,y)"
   ]
  },
  {
   "cell_type": "code",
   "execution_count": null,
   "metadata": {},
   "outputs": [],
   "source": [
    "x = [1, 2, 3, 4]\n",
    "y = [1, 4, 2, 3]\n",
    "plt.plot(x,y)"
   ]
  },
  {
   "cell_type": "markdown",
   "metadata": {},
   "source": [
    "For example, we want to plot $y=x^2$ function. We need to have x,$x^2$ values for plot."
   ]
  },
  {
   "cell_type": "code",
   "execution_count": null,
   "metadata": {},
   "outputs": [],
   "source": [
    "x = np.arange(0.0, 10, 0.01)\n",
    "y =  x*x\n",
    "plt.plot(x,y)"
   ]
  },
  {
   "cell_type": "markdown",
   "metadata": {},
   "source": [
    "For example, we want to plot sin function. We need to have x,sin(x) values for plot."
   ]
  },
  {
   "cell_type": "code",
   "execution_count": null,
   "metadata": {},
   "outputs": [],
   "source": [
    "x = np.arange(0.0, np.pi*2, 0.01)\n",
    "y =  np.sin(x)\n",
    "plt.plot(x,y)"
   ]
  },
  {
   "cell_type": "markdown",
   "metadata": {},
   "source": [
    "When we the length of x and y vectors are long enough, our plots are smooth. Otherwise figure seems bad.\n",
    "See example: "
   ]
  },
  {
   "cell_type": "code",
   "execution_count": null,
   "metadata": {},
   "outputs": [],
   "source": [
    "length = 100\n",
    "x1 = np.linspace(start=0.0,stop= np.pi*2,num= length)\n",
    "y1 =  np.sin(x1)\n",
    "plt.plot(x1,y1)"
   ]
  },
  {
   "cell_type": "code",
   "execution_count": null,
   "metadata": {},
   "outputs": [],
   "source": [
    "length = 10\n",
    "x1 = np.linspace(start=0.0,stop= np.pi*2,num= length)\n",
    "y1 =  np.sin(x1)\n",
    "plt.plot(x1,y1)"
   ]
  },
  {
   "cell_type": "code",
   "execution_count": null,
   "metadata": {},
   "outputs": [],
   "source": [
    "# Change size of your figure, dpi is important for quality of your figures.\n",
    "plt.figure(figsize=(8,5), dpi=200)\n",
    "length = 100\n",
    "x1 = np.linspace(start=0.0,stop= np.pi*2,num= length)\n",
    "y1 =  np.sin(x1)\n",
    "plt.plot(x1,y1)"
   ]
  },
  {
   "cell_type": "code",
   "execution_count": null,
   "metadata": {},
   "outputs": [],
   "source": [
    "# Change size of your figure, dpi is important for quality of your figures.\n",
    "\n",
    "plt.figure(figsize=(4,2), dpi=200)\n",
    "length = 100\n",
    "x1 = np.linspace(start=0.0,stop= np.pi*2,num= length)\n",
    "y1 =  np.sin(x1)\n",
    "plt.plot(x1,y1)\n",
    "\n",
    "plt.title('Figure title example: $y = sin(x)$')\n",
    "\n",
    "# X and Y labels\n",
    "plt.xlabel('X values')\n",
    "plt.ylabel('Y values')"
   ]
  },
  {
   "cell_type": "code",
   "execution_count": null,
   "metadata": {},
   "outputs": [],
   "source": [
    "# Legend example\n",
    "plt.clf()\n",
    "plt.figure(figsize=(4,2), dpi=200)\n",
    "length = 100\n",
    "x1 = np.linspace(start=0.0,stop= np.pi*2,num= length)\n",
    "y1 =  np.sin(x1)\n",
    "plt.legend(title=\"y=sin(x)\",loc=\"upper right\")\n",
    "plt.plot(x1,y1)\n",
    "\n"
   ]
  },
  {
   "cell_type": "code",
   "execution_count": null,
   "metadata": {},
   "outputs": [],
   "source": [
    "# scale/limit your graph to coordinates\n",
    "# X, Y axis Tickmarks (scale of your graph)\n",
    "plt.figure(figsize=(4,2), dpi=200)\n",
    "length = 100\n",
    "x1 = np.linspace(start=0.0,stop= np.pi*2,num= length)\n",
    "y1 =  np.sin(x1)\n",
    "plt.xlim([0,10])\n",
    "plt.ylim([-4,4])\n",
    "plt.plot(x1,y1)\n"
   ]
  },
  {
   "cell_type": "code",
   "execution_count": null,
   "metadata": {},
   "outputs": [],
   "source": [
    "# scale/limit your graph to coordinates\n",
    "# X, Y axis Tickmarks (scale of your graph)\n",
    "plt.figure(figsize=(4,2), dpi=200)\n",
    "length = 100\n",
    "x1 = np.linspace(start=0.0,stop= np.pi*2,num= length)\n",
    "y1 =  np.sin(x1)\n",
    "plt.xlim([0,2])\n",
    "plt.ylim([-2,2])\n",
    "plt.plot(x1,y1)\n"
   ]
  },
  {
   "cell_type": "code",
   "execution_count": null,
   "metadata": {},
   "outputs": [],
   "source": [
    "plt.clf()\n",
    "plt.figure(figsize=(4,2), dpi=200)\n",
    "length = 100\n",
    "x1 = np.linspace(start=0.0,stop= np.pi*2,num= length)\n",
    "y1 =  np.sin(x1)\n",
    "plt.plot(x1,y1)"
   ]
  },
  {
   "cell_type": "code",
   "execution_count": null,
   "metadata": {},
   "outputs": [],
   "source": [
    "\n",
    "# Save figure, dpi 300 is important for quality figures\n",
    "plt.savefig('example_sinx.png', dpi=300)\n",
    "# you can use file extension for different file types\n",
    "plt.savefig('example_sinx.pdf', dpi=300)"
   ]
  },
  {
   "cell_type": "markdown",
   "metadata": {},
   "source": [
    "# todo add other examples\n",
    "- Bar Chart\n",
    "- Line Graph\n",
    "- histograms\n",
    "- Pie Chart\n"
   ]
  }
 ],
 "metadata": {
  "kernelspec": {
   "display_name": "Python 3",
   "language": "python",
   "name": "python3"
  },
  "language_info": {
   "codemirror_mode": {
    "name": "ipython",
    "version": 3
   },
   "file_extension": ".py",
   "mimetype": "text/x-python",
   "name": "python",
   "nbconvert_exporter": "python",
   "pygments_lexer": "ipython3",
   "version": "3.7.6"
  }
 },
 "nbformat": 4,
 "nbformat_minor": 2
}
