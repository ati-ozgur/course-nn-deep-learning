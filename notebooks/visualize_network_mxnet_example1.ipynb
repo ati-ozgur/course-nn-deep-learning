{
 "cells": [
  {
   "cell_type": "markdown",
   "metadata": {},
   "source": [
    "1. install graphviz otherwise you will get an error\n",
    "2. This example is take from following [link](https://github.com/apache/incubator-mxnet/issues/7943)"
   ]
  },
  {
   "cell_type": "code",
   "execution_count": null,
   "metadata": {},
   "outputs": [],
   "source": [
    "\n",
    "import mxnet as mx"
   ]
  },
  {
   "cell_type": "code",
   "execution_count": null,
   "metadata": {},
   "outputs": [],
   "source": [
    "net = mx.gluon.nn.HybridSequential()\n",
    "with net.name_scope():\n",
    "    net.add(mx.gluon.nn.Dense(256, activation=\"relu\"))\n",
    "    net.add(mx.gluon.nn.Dense(256, activation=\"relu\"))\n",
    "    net.add(mx.gluon.nn.Dense(10))"
   ]
  },
  {
   "cell_type": "code",
   "execution_count": null,
   "metadata": {},
   "outputs": [],
   "source": [
    "import mxnet as mx\n",
    "\n",
    "\n",
    "    \n",
    "# Option 1    \n",
    "print(net)\n",
    "\n",
    "# Option 2 (net must be HybridSequential, if want to plot whole graph)\n",
    "net.hybridize()\n",
    "net.collect_params().initialize()\n",
    "x = mx.sym.var('data')\n",
    "sym = net(x)\n",
    "mx.viz.plot_network(sym)"
   ]
  },
  {
   "cell_type": "code",
   "execution_count": null,
   "metadata": {},
   "outputs": [],
   "source": []
  }
 ],
 "metadata": {
  "kernelspec": {
   "display_name": "Python 3",
   "language": "python",
   "name": "python3"
  },
  "language_info": {
   "codemirror_mode": {
    "name": "ipython",
    "version": 3
   },
   "file_extension": ".py",
   "mimetype": "text/x-python",
   "name": "python",
   "nbconvert_exporter": "python",
   "pygments_lexer": "ipython3",
   "version": "3.6.8"
  }
 },
 "nbformat": 4,
 "nbformat_minor": 2
}
