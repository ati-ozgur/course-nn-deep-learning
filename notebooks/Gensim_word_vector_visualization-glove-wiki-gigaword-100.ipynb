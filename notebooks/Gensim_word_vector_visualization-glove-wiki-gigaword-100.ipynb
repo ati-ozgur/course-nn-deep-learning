{
 "cells": [
  {
   "cell_type": "code",
   "execution_count": null,
   "id": "24c20215-13b7-429f-b537-886b936359fa",
   "metadata": {},
   "outputs": [],
   "source": [
    "import gensim.downloader as api\n",
    "from sklearn.decomposition import PCA\n",
    "import matplotlib.pyplot as plt\n",
    "\n",
    "\n"
   ]
  },
  {
   "cell_type": "code",
   "execution_count": null,
   "id": "edc6df33-6f31-45b6-a830-a42b197aafc8",
   "metadata": {},
   "outputs": [],
   "source": [
    "# 1. Load pretrained word vectors (this will download if not already cached)\n",
    "# Example: \"glove-wiki-gigaword-100\" (~128 MB)\n",
    "model = api.load(\"glove-wiki-gigaword-100\")"
   ]
  },
  {
   "cell_type": "markdown",
   "id": "6dd28c4f-cfaa-4174-bdd4-6a277e07ad26",
   "metadata": {},
   "source": [
    "# Pretrained Models in gensim-data\n",
    "## Word2Vec\n",
    "\n",
    "word2vec-google-news-300 → ~1.6 GB, 300d\n",
    "\n",
    "word2vec-ruscorpora-300 → ~198 MB, 300d (Russian)\n",
    "\n",
    "## GloVe (Wikipedia + Gigaword)\n",
    "\n",
    "glove-wiki-gigaword-50 → ~66 MB, 50d\n",
    "\n",
    "glove-wiki-gigaword-100 → ~128 MB, 100d\n",
    "\n",
    "glove-wiki-gigaword-200 → ~252 MB, 200d\n",
    "\n",
    "glove-wiki-gigaword-300 → ~376 MB, 300d\n",
    "\n",
    "## GloVe (Twitter)\n",
    "\n",
    "glove-twitter-25 → ~104 MB, 25d\n",
    "\n",
    "glove-twitter-50 → ~199 MB, 50d\n",
    "\n",
    "glove-twitter-100 → ~387 MB, 100d\n",
    "\n",
    "glove-twitter-200 → ~758 MB, 200d\n",
    "\n",
    "## FastText\n",
    "\n",
    "fasttext-wiki-news-subwords-300 → ~1.0 GB, 300d\n",
    "\n",
    "## ConceptNet\n",
    "\n",
    "conceptnet-numberbatch-17-06-300 → ~1.4 GB, 300d"
   ]
  },
  {
   "cell_type": "code",
   "execution_count": null,
   "id": "2f8f0b4f-0c4c-471c-8047-0f2764b5ce7c",
   "metadata": {},
   "outputs": [],
   "source": [
    "# 2. Pick some words to visualize\n",
    "words = [\n",
    "\"coffee\", \"tea\", \"beer\", \"wine\", \"brandy\", \"rum\", \"champagne\", \"water\",\n",
    "\"spaghetti\", \"borscht\", \"hamburger\", \"pizza\", \"falafel\", \"sushi\", \"meatballs\",\n",
    "\"animal\", \"ape\", \"cat\", \"dog\", \"frog\", \"horse\", \"kangaroo\", \"koala\", \"lizard\", \"monkey\", \"parrot\", \"toad\", \"wolf\", \"wombat\",\n",
    "\"france\", \"germany\", \"hungary\", \"luxembourg\", \"australia\", \"fiji\", \"china\",\n",
    "\"homework\", \"assignment\", \"problem\", \"exam\", \"test\", \"class\",\n",
    "\"school\", \"college\", \"university\", \"institute\",\n",
    "\"king\", \"queen\", \"man\", \"woman\", \n",
    "\"apple\", \"orange\", \"fruit\", \n",
    "]\n"
   ]
  },
  {
   "cell_type": "code",
   "execution_count": null,
   "id": "21623d5b-13a0-40f9-a472-6d074410e498",
   "metadata": {},
   "outputs": [],
   "source": [
    "# Extract word vectors\n",
    "X = [model[word] for word in words]\n",
    "print(X[0].shape)"
   ]
  },
  {
   "cell_type": "code",
   "execution_count": null,
   "id": "3271aa72-4b3e-449e-9664-59048a0fcf68",
   "metadata": {},
   "outputs": [],
   "source": [
    "\n",
    "\n",
    "# 3. Reduce dimensions with PCA\n",
    "pca = PCA(n_components=2)\n",
    "X_pca = pca.fit_transform(X)\n",
    "\n",
    "# 4. Plot\n",
    "plt.figure(figsize=(8, 6))\n",
    "plt.scatter(X_pca[:, 0], X_pca[:, 1])\n",
    "\n",
    "for i, word in enumerate(words):\n",
    "    plt.annotate(word, (X_pca[i, 0]+0.02, X_pca[i, 1]+0.02))\n",
    "\n",
    "plt.title(\"Word Embeddings visualized with PCA\")\n",
    "plt.show()\n"
   ]
  },
  {
   "cell_type": "code",
   "execution_count": null,
   "id": "c1632434-d6ca-4341-81cf-dc49f99c4c2f",
   "metadata": {},
   "outputs": [],
   "source": []
  },
  {
   "cell_type": "code",
   "execution_count": null,
   "id": "4c39e2c8-bdb9-437e-b981-f7ab83706999",
   "metadata": {},
   "outputs": [],
   "source": []
  }
 ],
 "metadata": {
  "kernelspec": {
   "display_name": "Python 3 (ipykernel)",
   "language": "python",
   "name": "python3"
  },
  "language_info": {
   "codemirror_mode": {
    "name": "ipython",
    "version": 3
   },
   "file_extension": ".py",
   "mimetype": "text/x-python",
   "name": "python",
   "nbconvert_exporter": "python",
   "pygments_lexer": "ipython3",
   "version": "3.11.13"
  }
 },
 "nbformat": 4,
 "nbformat_minor": 5
}
