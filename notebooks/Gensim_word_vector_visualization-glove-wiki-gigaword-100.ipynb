{
 "cells": [
  {
   "cell_type": "code",
   "execution_count": null,
   "id": "24c20215-13b7-429f-b537-886b936359fa",
   "metadata": {},
   "outputs": [],
   "source": [
    "import gensim.downloader as api\n",
    "from sklearn.decomposition import PCA\n",
    "import matplotlib.pyplot as plt\n",
    "\n",
    "\n"
   ]
  },
  {
   "cell_type": "code",
   "execution_count": null,
   "id": "edc6df33-6f31-45b6-a830-a42b197aafc8",
   "metadata": {},
   "outputs": [],
   "source": [
    "# 1. Load pretrained word vectors (this will download if not already cached)\n",
    "# Example: \"glove-wiki-gigaword-100\" (~128 MB)\n",
    "model = api.load(\"glove-wiki-gigaword-100\")"
   ]
  },
  {
   "cell_type": "markdown",
   "id": "6dd28c4f-cfaa-4174-bdd4-6a277e07ad26",
   "metadata": {},
   "source": [
    "# Pretrained Models in gensim-data\n",
    "## Word2Vec\n",
    "\n",
    "word2vec-google-news-300 → ~1.6 GB, 300d\n",
    "\n",
    "word2vec-ruscorpora-300 → ~198 MB, 300d (Russian)\n",
    "\n",
    "## GloVe (Wikipedia + Gigaword)\n",
    "\n",
    "glove-wiki-gigaword-50 → ~66 MB, 50d\n",
    "\n",
    "glove-wiki-gigaword-100 → ~128 MB, 100d\n",
    "\n",
    "glove-wiki-gigaword-200 → ~252 MB, 200d\n",
    "\n",
    "glove-wiki-gigaword-300 → ~376 MB, 300d\n",
    "\n",
    "## GloVe (Twitter)\n",
    "\n",
    "glove-twitter-25 → ~104 MB, 25d\n",
    "\n",
    "glove-twitter-50 → ~199 MB, 50d\n",
    "\n",
    "glove-twitter-100 → ~387 MB, 100d\n",
    "\n",
    "glove-twitter-200 → ~758 MB, 200d\n",
    "\n",
    "## FastText\n",
    "\n",
    "fasttext-wiki-news-subwords-300 → ~1.0 GB, 300d\n",
    "\n",
    "## ConceptNet\n",
    "\n",
    "conceptnet-numberbatch-17-06-300 → ~1.4 GB, 300d"
   ]
  },
  {
   "cell_type": "code",
   "execution_count": null,
   "id": "16fb1e57-f029-40b4-b562-41e989278531",
   "metadata": {},
   "outputs": [],
   "source": [
    "model.most_similar('obama')"
   ]
  },
  {
   "cell_type": "code",
   "execution_count": null,
   "id": "01b865fc-8824-4b87-a9fb-c84524da2527",
   "metadata": {},
   "outputs": [],
   "source": [
    "model.most_similar('merkel')"
   ]
  },
  {
   "cell_type": "code",
   "execution_count": null,
   "id": "23559840-c0ca-44fe-b045-cb5edb60c971",
   "metadata": {},
   "outputs": [],
   "source": [
    "model.most_similar('banana')"
   ]
  },
  {
   "cell_type": "code",
   "execution_count": null,
   "id": "01582c27-6091-4e28-8eb7-7c7217edcbe5",
   "metadata": {},
   "outputs": [],
   "source": [
    "model.most_similar('turkey')"
   ]
  },
  {
   "cell_type": "code",
   "execution_count": null,
   "id": "3be375a1-0fc2-4651-b119-812f4d80d192",
   "metadata": {},
   "outputs": [],
   "source": [
    "model.most_similar('germany')"
   ]
  },
  {
   "cell_type": "code",
   "execution_count": null,
   "id": "a8cafc2b-3e05-4ae4-92fa-30c83ea86d59",
   "metadata": {},
   "outputs": [],
   "source": [
    "model.most_similar(negative='banana')"
   ]
  },
  {
   "cell_type": "code",
   "execution_count": null,
   "id": "971f415a-0076-43ad-9282-61168afa43ed",
   "metadata": {},
   "outputs": [],
   "source": [
    "result = model.most_similar(positive=['woman', 'king'], negative=['man'])\n",
    "print(\"{}: {:.4f}\".format(*result[0]))"
   ]
  },
  {
   "cell_type": "code",
   "execution_count": null,
   "id": "785c8202-c812-466d-aeae-0b583a2edd25",
   "metadata": {},
   "outputs": [],
   "source": [
    "def analogy(x1, x2, y1):\n",
    "    result = model.most_similar(positive=[y1, x2], negative=[x1])\n",
    "    return result[0][0]"
   ]
  },
  {
   "cell_type": "code",
   "execution_count": null,
   "id": "3303c0ab-b567-491e-aef7-2d14b34ba782",
   "metadata": {},
   "outputs": [],
   "source": [
    "analogy('japan', 'japanese', 'australia')"
   ]
  },
  {
   "cell_type": "code",
   "execution_count": null,
   "id": "0123a142-5c3e-4ca2-82e0-1e28422c62c2",
   "metadata": {},
   "outputs": [],
   "source": [
    "analogy('japan', 'japanese', 'turkey')"
   ]
  },
  {
   "cell_type": "code",
   "execution_count": null,
   "id": "00809484-29f6-4d03-8dcb-980d5d8a45c4",
   "metadata": {},
   "outputs": [],
   "source": [
    "analogy('japan', 'japanese', 'germany')"
   ]
  },
  {
   "cell_type": "code",
   "execution_count": null,
   "id": "8b95a0e9-56eb-4a70-a122-130550d6e1c1",
   "metadata": {},
   "outputs": [],
   "source": [
    "analogy('australia', 'beer', 'france')"
   ]
  },
  {
   "cell_type": "code",
   "execution_count": null,
   "id": "a9b0d467-b2ee-4348-8e5f-da4e5ff824ea",
   "metadata": {},
   "outputs": [],
   "source": [
    "analogy('australia', 'beer', 'turkey')"
   ]
  },
  {
   "cell_type": "code",
   "execution_count": null,
   "id": "f7a191b3-7e7f-4b1d-be39-5f5f075ba17f",
   "metadata": {},
   "outputs": [],
   "source": [
    "analogy('australia', 'beer', 'germany')"
   ]
  },
  {
   "cell_type": "code",
   "execution_count": null,
   "id": "821234ba-b0dd-4fd6-a23d-69acbb8e8206",
   "metadata": {},
   "outputs": [],
   "source": [
    "analogy('obama', 'clinton', 'reagan')"
   ]
  },
  {
   "cell_type": "code",
   "execution_count": null,
   "id": "31590c3e-36b9-46e4-b84f-7422d1dcf2af",
   "metadata": {},
   "outputs": [],
   "source": [
    "analogy('tall', 'tallest', 'long')"
   ]
  },
  {
   "cell_type": "code",
   "execution_count": null,
   "id": "aef66ec9-e8fe-48ed-906d-4232113d5558",
   "metadata": {},
   "outputs": [],
   "source": [
    "analogy('good', 'fantastic', 'bad')"
   ]
  },
  {
   "cell_type": "code",
   "execution_count": null,
   "id": "59a7fc8c-ad49-4f3f-b55e-ecbf2c9e2911",
   "metadata": {},
   "outputs": [],
   "source": [
    "print(model.doesnt_match(\"breakfast cereal dinner lunch\".split()))"
   ]
  },
  {
   "cell_type": "code",
   "execution_count": null,
   "id": "13577169-de14-494c-a1f8-84cc6be65986",
   "metadata": {},
   "outputs": [],
   "source": [
    "import random"
   ]
  },
  {
   "cell_type": "code",
   "execution_count": null,
   "id": "e1aefa11-3beb-4346-8cc4-27b9a18f396b",
   "metadata": {},
   "outputs": [],
   "source": [
    "random_words = random.sample(sorted(model.key_to_index.keys()), 10)\n"
   ]
  },
  {
   "cell_type": "code",
   "execution_count": null,
   "id": "8b6d00e9-0aa0-4ac1-9ca7-874014144521",
   "metadata": {},
   "outputs": [],
   "source": [
    "random_words"
   ]
  },
  {
   "cell_type": "code",
   "execution_count": null,
   "id": "41dc7a9f-0c4a-4b9e-8efd-0ccaa88e1fe7",
   "metadata": {},
   "outputs": [],
   "source": [
    "random_word = random.choice(sorted(model.key_to_index.keys()))"
   ]
  },
  {
   "cell_type": "code",
   "execution_count": null,
   "id": "24ea1ac9-5b7f-4d1e-831f-6eb32b53dfad",
   "metadata": {},
   "outputs": [],
   "source": [
    "random_word"
   ]
  },
  {
   "cell_type": "code",
   "execution_count": null,
   "id": "2f8f0b4f-0c4c-471c-8047-0f2764b5ce7c",
   "metadata": {},
   "outputs": [],
   "source": [
    "# 2. Pick some words to visualize\n",
    "words = [\n",
    "\"coffee\", \"tea\", \"beer\", \"wine\", \"brandy\", \"rum\", \"champagne\", \"water\",\n",
    "\"spaghetti\", \"borscht\", \"hamburger\", \"pizza\", \"falafel\", \"sushi\", \"meatballs\",\n",
    "\"animal\", \"ape\", \"cat\", \"dog\", \"frog\", \"horse\", \"kangaroo\", \"koala\", \"lizard\", \"monkey\", \"parrot\", \"toad\", \"wolf\", \"wombat\",\n",
    "\"france\", \"germany\", \"hungary\", \"luxembourg\", \"australia\", \"fiji\", \"china\",\n",
    "\"homework\", \"assignment\", \"problem\", \"exam\", \"test\", \"class\",\n",
    "\"school\", \"college\", \"university\", \"institute\",\n",
    "\"king\", \"queen\", \"man\", \"woman\", \n",
    "\"apple\", \"orange\", \"fruit\", \n",
    "]\n"
   ]
  },
  {
   "cell_type": "code",
   "execution_count": null,
   "id": "74846a96-4929-49ac-995a-e4c050419e5d",
   "metadata": {},
   "outputs": [],
   "source": [
    "#words = random_words"
   ]
  },
  {
   "cell_type": "code",
   "execution_count": null,
   "id": "21623d5b-13a0-40f9-a472-6d074410e498",
   "metadata": {},
   "outputs": [],
   "source": [
    "# Extract word vectors\n",
    "X = [model[word] for word in words]\n",
    "print(X[0].shape)"
   ]
  },
  {
   "cell_type": "code",
   "execution_count": null,
   "id": "3271aa72-4b3e-449e-9664-59048a0fcf68",
   "metadata": {},
   "outputs": [],
   "source": [
    "\n",
    "\n",
    "# 3. Reduce dimensions with PCA\n",
    "pca = PCA(n_components=2)\n",
    "X_pca = pca.fit_transform(X)\n",
    "\n",
    "# 4. Plot\n",
    "plt.figure(figsize=(8, 6))\n",
    "plt.scatter(X_pca[:, 0], X_pca[:, 1])\n",
    "\n",
    "for i, word in enumerate(words):\n",
    "    plt.annotate(word, (X_pca[i, 0]+0.02, X_pca[i, 1]+0.02))\n",
    "\n",
    "plt.title(\"Word Embeddings visualized with PCA\")\n",
    "plt.show()\n"
   ]
  },
  {
   "cell_type": "code",
   "execution_count": null,
   "id": "c1632434-d6ca-4341-81cf-dc49f99c4c2f",
   "metadata": {},
   "outputs": [],
   "source": []
  },
  {
   "cell_type": "code",
   "execution_count": null,
   "id": "4c39e2c8-bdb9-437e-b981-f7ab83706999",
   "metadata": {},
   "outputs": [],
   "source": []
  }
 ],
 "metadata": {
  "kernelspec": {
   "display_name": "Python 3 (ipykernel)",
   "language": "python",
   "name": "python3"
  },
  "language_info": {
   "codemirror_mode": {
    "name": "ipython",
    "version": 3
   },
   "file_extension": ".py",
   "mimetype": "text/x-python",
   "name": "python",
   "nbconvert_exporter": "python",
   "pygments_lexer": "ipython3",
   "version": "3.11.13"
  }
 },
 "nbformat": 4,
 "nbformat_minor": 5
}
