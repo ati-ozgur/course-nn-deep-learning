{
 "cells": [
  {
   "cell_type": "code",
   "execution_count": null,
   "id": "8d902827",
   "metadata": {},
   "outputs": [],
   "source": [
    "\n",
    "\n",
    "from importlib.metadata import version\n",
    "\n",
    "print(\"matplotlib version:\", version(\"matplotlib\"))\n",
    "print(\"torch version:\", version(\"torch\"))\n",
    "print(\"tiktoken version:\", version(\"tiktoken\"))\n",
    "\n"
   ]
  },
  {
   "cell_type": "code",
   "execution_count": null,
   "id": "4b22c6f5",
   "metadata": {},
   "outputs": [],
   "source": [
    "import torch\n",
    "import torch.nn as nn"
   ]
  },
  {
   "cell_type": "code",
   "execution_count": null,
   "id": "7d32d903",
   "metadata": {},
   "outputs": [],
   "source": [
    "import matplotlib.pyplot as plt"
   ]
  },
  {
   "cell_type": "code",
   "execution_count": null,
   "id": "3aa7b86b",
   "metadata": {},
   "outputs": [],
   "source": [
    "list_of_functions = [nn.Sigmoid(), nn.ReLU(), \n",
    "                     nn.LeakyReLU(), nn.Softmax(), \n",
    "                     nn.Tanh(), nn.GELU(), \n",
    "                     nn.ELU(), nn.SELU(),\n",
    "                     nn.SiLU(), nn.CELU() ]\n",
    "list_of_function_names = [func.__class__.__name__ for func in list_of_functions]\n",
    "min_x = -3\n",
    "max_x = 3\n",
    "x = torch.linspace(min_x, max_x, 100)\n",
    "list_of_y_values = [func(x) for func in list_of_functions]\n",
    "count= len(list_of_functions)\n",
    "#list_of_function_names"
   ]
  },
  {
   "cell_type": "code",
   "execution_count": null,
   "id": "30664d00",
   "metadata": {},
   "outputs": [],
   "source": [
    "ncols = 2\n",
    "nrows = count // ncols\n",
    " \n",
    "\n",
    "plt.figure(figsize=(8, nrows*3))\n",
    "for i, (y, label) in enumerate(zip(list_of_y_values, list_of_function_names), 1):\n",
    "    plt.subplot(nrows, ncols, i)\n",
    "    plt.plot(x, y)\n",
    "    plt.title(f\"{label} activation function\")\n",
    "    plt.xlabel(\"x\")\n",
    "    plt.ylabel(f\"{label}(x)\")\n",
    "    plt.xlim([min_x, max_x])\n",
    "    #plt.ylim([min_x, max_x])\n",
    "    plt.grid(True)\n",
    "\n",
    "plt.tight_layout()\n",
    "plt.show()\n",
    "\n"
   ]
  }
 ],
 "metadata": {
  "kernelspec": {
   "display_name": "llms-from-scratch (3.13.7)",
   "language": "python",
   "name": "python3"
  },
  "language_info": {
   "codemirror_mode": {
    "name": "ipython",
    "version": 3
   },
   "file_extension": ".py",
   "mimetype": "text/x-python",
   "name": "python",
   "nbconvert_exporter": "python",
   "pygments_lexer": "ipython3",
   "version": "3.13.7"
  }
 },
 "nbformat": 4,
 "nbformat_minor": 5
}
